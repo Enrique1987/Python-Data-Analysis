{
 "cells": [
  {
   "cell_type": "markdown",
   "metadata": {},
   "source": [
    "# Randomized a Dataframe"
   ]
  },
  {
   "cell_type": "code",
   "execution_count": 4,
   "metadata": {},
   "outputs": [],
   "source": [
    "# we would use shuffle to randomize the data\n",
    "import pandas as pd\n",
    "from random import shuffle\n",
    "\n"
   ]
  },
  {
   "cell_type": "code",
   "execution_count": 5,
   "metadata": {
    "scrolled": false
   },
   "outputs": [
    {
     "data": {
      "text/html": [
       "<div>\n",
       "<style scoped>\n",
       "    .dataframe tbody tr th:only-of-type {\n",
       "        vertical-align: middle;\n",
       "    }\n",
       "\n",
       "    .dataframe tbody tr th {\n",
       "        vertical-align: top;\n",
       "    }\n",
       "\n",
       "    .dataframe thead th {\n",
       "        text-align: right;\n",
       "    }\n",
       "</style>\n",
       "<table border=\"1\" class=\"dataframe\">\n",
       "  <thead>\n",
       "    <tr style=\"text-align: right;\">\n",
       "      <th></th>\n",
       "      <th>GeographyID</th>\n",
       "      <th>ZipCodeBKey</th>\n",
       "      <th>County</th>\n",
       "      <th>City</th>\n",
       "      <th>State</th>\n",
       "      <th>Country</th>\n",
       "      <th>ZipCode</th>\n",
       "    </tr>\n",
       "  </thead>\n",
       "  <tbody>\n",
       "    <tr>\n",
       "      <th>0</th>\n",
       "      <td>57446</td>\n",
       "      <td>11757-2827</td>\n",
       "      <td>Suffolk</td>\n",
       "      <td>Lindenhurst</td>\n",
       "      <td>NY</td>\n",
       "      <td>United States</td>\n",
       "      <td>11757 57447</td>\n",
       "    </tr>\n",
       "    <tr>\n",
       "      <th>1</th>\n",
       "      <td>260009</td>\n",
       "      <td>10021-3235</td>\n",
       "      <td>New York</td>\n",
       "      <td>Manhattan</td>\n",
       "      <td>NY</td>\n",
       "      <td>United States</td>\n",
       "      <td>10021 105177</td>\n",
       "    </tr>\n",
       "    <tr>\n",
       "      <th>2</th>\n",
       "      <td>98509</td>\n",
       "      <td>10302-2327</td>\n",
       "      <td>Richmond</td>\n",
       "      <td>Staten Island</td>\n",
       "      <td>NY</td>\n",
       "      <td>United States</td>\n",
       "      <td>10302 66668</td>\n",
       "    </tr>\n",
       "    <tr>\n",
       "      <th>3</th>\n",
       "      <td>269192</td>\n",
       "      <td>07030-4412</td>\n",
       "      <td>Hudson</td>\n",
       "      <td>Hoboken</td>\n",
       "      <td>NJ</td>\n",
       "      <td>United States</td>\n",
       "      <td>07030 269924</td>\n",
       "    </tr>\n",
       "    <tr>\n",
       "      <th>4</th>\n",
       "      <td>76949</td>\n",
       "      <td>11101-5314</td>\n",
       "      <td>Queens</td>\n",
       "      <td>Queens</td>\n",
       "      <td>NY</td>\n",
       "      <td>United States</td>\n",
       "      <td>11101 40370</td>\n",
       "    </tr>\n",
       "  </tbody>\n",
       "</table>\n",
       "</div>"
      ],
      "text/plain": [
       "   GeographyID ZipCodeBKey    County           City State        Country  \\\n",
       "0        57446  11757-2827   Suffolk    Lindenhurst    NY  United States   \n",
       "1       260009  10021-3235  New York      Manhattan    NY  United States   \n",
       "2        98509  10302-2327  Richmond  Staten Island    NY  United States   \n",
       "3       269192  07030-4412    Hudson        Hoboken    NJ  United States   \n",
       "4        76949  11101-5314    Queens         Queens    NY  United States   \n",
       "\n",
       "        ZipCode  \n",
       "0   11757 57447  \n",
       "1  10021 105177  \n",
       "2   10302 66668  \n",
       "3  07030 269924  \n",
       "4   11101 40370  "
      ]
     },
     "execution_count": 5,
     "metadata": {},
     "output_type": "execute_result"
    }
   ],
   "source": [
    "df = pd.read_csv('data/geography.csv',sep=\";\")\n",
    "df.head()"
   ]
  },
  {
   "cell_type": "code",
   "execution_count": 6,
   "metadata": {},
   "outputs": [
    {
     "name": "stderr",
     "output_type": "stream",
     "text": [
      "C:\\ProgramData\\Anaconda3\\lib\\random.py:278: SettingWithCopyWarning: \n",
      "A value is trying to be set on a copy of a slice from a DataFrame\n",
      "\n",
      "See the caveats in the documentation: https://pandas.pydata.org/pandas-docs/stable/user_guide/indexing.html#returning-a-view-versus-a-copy\n",
      "  x[i], x[j] = x[j], x[i]\n"
     ]
    }
   ],
   "source": [
    "#shuffle to every column\n",
    "for col in df.columns:\n",
    "    columntoRandom = df[col]\n",
    "    shuffle(columntoRandom)\n"
   ]
  },
  {
   "cell_type": "code",
   "execution_count": 7,
   "metadata": {},
   "outputs": [
    {
     "data": {
      "text/html": [
       "<div>\n",
       "<style scoped>\n",
       "    .dataframe tbody tr th:only-of-type {\n",
       "        vertical-align: middle;\n",
       "    }\n",
       "\n",
       "    .dataframe tbody tr th {\n",
       "        vertical-align: top;\n",
       "    }\n",
       "\n",
       "    .dataframe thead th {\n",
       "        text-align: right;\n",
       "    }\n",
       "</style>\n",
       "<table border=\"1\" class=\"dataframe\">\n",
       "  <thead>\n",
       "    <tr style=\"text-align: right;\">\n",
       "      <th></th>\n",
       "      <th>GeographyID</th>\n",
       "      <th>ZipCodeBKey</th>\n",
       "      <th>County</th>\n",
       "      <th>City</th>\n",
       "      <th>State</th>\n",
       "      <th>Country</th>\n",
       "      <th>ZipCode</th>\n",
       "    </tr>\n",
       "  </thead>\n",
       "  <tbody>\n",
       "    <tr>\n",
       "      <th>0</th>\n",
       "      <td>31044</td>\n",
       "      <td>10021-3235</td>\n",
       "      <td>Nassau</td>\n",
       "      <td>Manhattan</td>\n",
       "      <td>NY</td>\n",
       "      <td>United States</td>\n",
       "      <td>11575 234485</td>\n",
       "    </tr>\n",
       "    <tr>\n",
       "      <th>1</th>\n",
       "      <td>115383</td>\n",
       "      <td>11208-3592</td>\n",
       "      <td>Kings</td>\n",
       "      <td>Madrid</td>\n",
       "      <td>NY</td>\n",
       "      <td>United States</td>\n",
       "      <td>11219 23316</td>\n",
       "    </tr>\n",
       "    <tr>\n",
       "      <th>2</th>\n",
       "      <td>115708</td>\n",
       "      <td>10451-6407</td>\n",
       "      <td>Queens</td>\n",
       "      <td>Old Bridge</td>\n",
       "      <td>NY</td>\n",
       "      <td>United States</td>\n",
       "      <td>11201 69286</td>\n",
       "    </tr>\n",
       "    <tr>\n",
       "      <th>3</th>\n",
       "      <td>250314</td>\n",
       "      <td>11377-1517</td>\n",
       "      <td>Kings</td>\n",
       "      <td>Queens</td>\n",
       "      <td>NY</td>\n",
       "      <td>United States</td>\n",
       "      <td>10019 282559</td>\n",
       "    </tr>\n",
       "    <tr>\n",
       "      <th>4</th>\n",
       "      <td>111353</td>\n",
       "      <td>11377-5120</td>\n",
       "      <td>Queens</td>\n",
       "      <td>Brooklyn</td>\n",
       "      <td>NY</td>\n",
       "      <td>United States</td>\n",
       "      <td>08857 294415</td>\n",
       "    </tr>\n",
       "  </tbody>\n",
       "</table>\n",
       "</div>"
      ],
      "text/plain": [
       "   GeographyID ZipCodeBKey  County        City State        Country  \\\n",
       "0        31044  10021-3235  Nassau   Manhattan    NY  United States   \n",
       "1       115383  11208-3592   Kings      Madrid    NY  United States   \n",
       "2       115708  10451-6407  Queens  Old Bridge    NY  United States   \n",
       "3       250314  11377-1517   Kings      Queens    NY  United States   \n",
       "4       111353  11377-5120  Queens    Brooklyn    NY  United States   \n",
       "\n",
       "        ZipCode  \n",
       "0  11575 234485  \n",
       "1   11219 23316  \n",
       "2   11201 69286  \n",
       "3  10019 282559  \n",
       "4  08857 294415  "
      ]
     },
     "execution_count": 7,
     "metadata": {},
     "output_type": "execute_result"
    }
   ],
   "source": [
    "#check the resutls\n",
    "df.head()"
   ]
  },
  {
   "cell_type": "code",
   "execution_count": 12,
   "metadata": {},
   "outputs": [],
   "source": [
    "#safe\n",
    "df2_final.to_csv (r'data\\geography_randomice.csv',sep=\";\", index = None, header=True)"
   ]
  },
  {
   "cell_type": "markdown",
   "metadata": {},
   "source": [
    "### End"
   ]
  }
 ],
 "metadata": {
  "kernelspec": {
   "display_name": "Python 3",
   "language": "python",
   "name": "python3"
  },
  "language_info": {
   "codemirror_mode": {
    "name": "ipython",
    "version": 3
   },
   "file_extension": ".py",
   "mimetype": "text/x-python",
   "name": "python",
   "nbconvert_exporter": "python",
   "pygments_lexer": "ipython3",
   "version": "3.7.6"
  }
 },
 "nbformat": 4,
 "nbformat_minor": 4
}
